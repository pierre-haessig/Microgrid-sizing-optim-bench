{
 "cells": [
  {
   "cell_type": "markdown",
   "id": "b14f854f-51e9-4253-8946-d7ca39628ed0",
   "metadata": {},
   "source": [
    "# Microgrid sizing optimization: compare algo record learning curves\n",
    "\n",
    "Notebook extended from the **Microgrid sizing optimization** notebook example in `../Microgrids.jl/examples/`.\n",
    "\n",
    "PH, sept 2023"
   ]
  },
  {
   "cell_type": "code",
   "execution_count": 22,
   "id": "c2f04250-290c-4c38-93e6-074702ec0700",
   "metadata": {},
   "outputs": [],
   "source": [
    "using Microgrids\n",
    "using NLopt # optimization solvers\n",
    "using Printf # pretty print results\n",
    "using Random"
   ]
  },
  {
   "cell_type": "markdown",
   "id": "5e20bad8-81a3-4a6b-8c1e-6848a20c0d55",
   "metadata": {},
   "source": [
    "## Load Microgrid project data\n",
    "\n",
    "Loading parameters and time series for a Microgrid project with *wind* and *solar* sources, plus a *battery* and a *dispatchable generator*. \n",
    "Values gathered from the Microgrid_Wind-Solar.ipynb example notebook."
   ]
  },
  {
   "cell_type": "code",
   "execution_count": 2,
   "id": "a078bb9d-37a9-45f0-bb00-4404a44dcb30",
   "metadata": {},
   "outputs": [
    {
     "name": "stdout",
     "output_type": "stream",
     "text": [
      "Data definition for Microgrid with wind, solar, storage and generator...\n"
     ]
    }
   ],
   "source": [
    "include(\"../Microgrids.jl/examples/Microgrid_Wind-Solar_data.jl\");"
   ]
  },
  {
   "cell_type": "markdown",
   "id": "9431f37f-4a44-42f7-a017-4935125731f2",
   "metadata": {},
   "source": [
    "## Setting up the cost function (criterion) to be optimized\n"
   ]
  },
  {
   "cell_type": "code",
   "execution_count": 3,
   "id": "b1b119b9-0e9c-447d-b708-ef64e11b0d0d",
   "metadata": {},
   "outputs": [
    {
     "data": {
      "text/plain": [
       "simulate_microgrid"
      ]
     },
     "execution_count": 3,
     "metadata": {},
     "output_type": "execute_result"
    }
   ],
   "source": [
    "\"\"\"Simulate the performance of a Microgrid project of size `x`\n",
    "with x=[power_rated_gen, energy_rated_sto, power_rated_pv, power_rated_wind]\n",
    "\n",
    "Returns stats, costs\n",
    "\"\"\"\n",
    "    function simulate_microgrid(x)\n",
    "    project = Project(lifetime, discount_rate, timestep, \"€\")\n",
    "    # Split decision variables (converted MW → kW):\n",
    "    power_rated_gen = x[1]*1000\n",
    "    energy_rated_sto = x[2]*1000\n",
    "    power_rated_pv = x[3]*1000\n",
    "    power_rated_wind = x[4]*1000\n",
    "\n",
    "    # Create components\n",
    "    gen = DispatchableGenerator(power_rated_gen,\n",
    "        fuel_intercept, fuel_slope, fuel_price,\n",
    "        investment_price_gen, om_price_gen, lifetime_gen,\n",
    "        load_ratio_min,\n",
    "        replacement_price_ratio, salvage_price_ratio, fuel_unit)\n",
    "    batt = Battery(energy_rated_sto,\n",
    "        investment_price_sto, om_price_sto, lifetime_sto, lifetime_cycles,\n",
    "        charge_rate, discharge_rate, loss_factor_sto, SoC_min, SoC_ini,\n",
    "        replacement_price_ratio, salvage_price_ratio)\n",
    "    pv = Photovoltaic(power_rated_pv, irradiance,\n",
    "        investment_price_pv, om_price_pv,\n",
    "        lifetime_pv, derating_factor_pv,\n",
    "        replacement_price_ratio, salvage_price_ratio)\n",
    "    windgen = WindPower(power_rated_wind, cf_wind,\n",
    "        investment_price_wind, om_price_wind,\n",
    "        lifetime_wind,\n",
    "        replacement_price_ratio, salvage_price_ratio)\n",
    "    mg = Microgrid(project, Pload, gen, batt, [pv, windgen])\n",
    "\n",
    "    # Launch simulation:\n",
    "    traj, stats, costs = simulate(mg)\n",
    "\n",
    "    return stats, costs\n",
    "end"
   ]
  },
  {
   "cell_type": "code",
   "execution_count": 4,
   "id": "470f5630-322c-497f-bac9-beb87f014f71",
   "metadata": {},
   "outputs": [
    {
     "data": {
      "text/plain": [
       "obj_multi"
      ]
     },
     "execution_count": 4,
     "metadata": {},
     "output_type": "execute_result"
    }
   ],
   "source": [
    "\"Multi-objective criterion for microgrid performance: lcoe, shedding rate\"\n",
    "function obj_multi(x)\n",
    "    stats, costs = simulate_microgrid(x)\n",
    "    # Extract KPIs of interest\n",
    "    lcoe = costs.lcoe # $/kWh\n",
    "    shed_rate = stats.shed_rate; # in [0,1]\n",
    "    return lcoe, shed_rate\n",
    "end"
   ]
  },
  {
   "cell_type": "code",
   "execution_count": 5,
   "id": "6b3eb2d2-1513-424b-baa0-a49ca5247bb4",
   "metadata": {},
   "outputs": [
    {
     "data": {
      "text/plain": [
       "obj"
      ]
     },
     "execution_count": 5,
     "metadata": {},
     "output_type": "execute_result"
    }
   ],
   "source": [
    "\"\"\"Mono-objective criterion: LCOE + penalty if shedding rate > `shed_max`\n",
    "\n",
    "with signature adapted to NLopt with `grad` as 2nd argument\n",
    "\n",
    "load shedding penalty threshold `shed_max` should be in  [0,1[\n",
    "\"\"\"\n",
    "function obj(x, grad, shed_max, w_shed_max=1e5)\n",
    "    lcoe, shed_rate = obj_multi(x)\n",
    "    over_shed = shed_rate - shed_max\n",
    "    if over_shed > 0.0\n",
    "        penalty = w_shed_max*over_shed\n",
    "    else\n",
    "        penalty = 0.0\n",
    "    end\n",
    "    J = lcoe + penalty\n",
    "end"
   ]
  },
  {
   "cell_type": "markdown",
   "id": "c57f7af9-ea2f-40a8-b502-ba98b472410c",
   "metadata": {},
   "source": [
    "### Tests the objective functions"
   ]
  },
  {
   "cell_type": "markdown",
   "id": "e8feaded-609f-4dfa-b350-4089468d6875",
   "metadata": {},
   "source": [
    "Test of the simulator wrapper (on a baseline sizing):"
   ]
  },
  {
   "cell_type": "code",
   "execution_count": 6,
   "id": "d765dc6a-eeda-4727-b259-479176670dc1",
   "metadata": {},
   "outputs": [
    {
     "data": {
      "text/plain": [
       "([1.8, 5.0, 3.0, 0.9], 0.22924812869928668, 21.89002772908652)"
      ]
     },
     "execution_count": 6,
     "metadata": {},
     "output_type": "execute_result"
    }
   ],
   "source": [
    "# Baseline sizing: same as in Microgrid_Wind-Solar.ipynb notebook\n",
    "x_base = [power_rated_gen, energy_rated_sto, power_rated_pv, power_rated_wind]/1000.\n",
    "# run simulation:\n",
    "stats, costs = simulate_microgrid(x_base)\n",
    "x_base, costs.lcoe, costs.npc/1e6"
   ]
  },
  {
   "cell_type": "code",
   "execution_count": 7,
   "id": "8de2153d-559f-4a60-880e-e8ea5fa3b810",
   "metadata": {},
   "outputs": [
    {
     "name": "stdout",
     "output_type": "stream",
     "text": [
      "Base. multi: (0.22924812869928668, 0.0) mono: 0.22924812869928668\n"
     ]
    }
   ],
   "source": [
    "# Test:\n",
    "shed_max = 0.01 # in [0,1]\n",
    "\n",
    "println(\"Base. multi: \", obj_multi(x_base), \" mono: \", obj(x_base,[], shed_max))"
   ]
  },
  {
   "cell_type": "markdown",
   "id": "dfbf1ccf-a7df-474a-991c-9437bd83d8ab",
   "metadata": {},
   "source": [
    "## Optimization"
   ]
  },
  {
   "cell_type": "markdown",
   "id": "d15efd32-c2ab-4d9a-98cf-5918cdf0b9b1",
   "metadata": {},
   "source": [
    "### Setting up the optimization problem"
   ]
  },
  {
   "cell_type": "markdown",
   "id": "87ccea54-0d83-4b01-8f7e-de37c8dfa0d9",
   "metadata": {},
   "source": [
    "bounds of the design space and starting point: derived from maximal load power"
   ]
  },
  {
   "cell_type": "code",
   "execution_count": 23,
   "id": "5ac92d7e-5de1-4ddf-a050-6897dbc8af2d",
   "metadata": {},
   "outputs": [
    {
     "data": {
      "text/plain": [
       "4-element Vector{Float64}:\n",
       "  2.0484\n",
       " 17.07\n",
       " 17.07\n",
       "  8.535"
      ]
     },
     "execution_count": 23,
     "metadata": {},
     "output_type": "execute_result"
    }
   ],
   "source": [
    "Pload_max = maximum(Pload)\n",
    "\n",
    "xmin = [0., 0., 1e-3, 0.] # 1e-3 instead of 0.0, because LCOE is NaN if ther is exactly zero generation\n",
    "xmax = [1.2, 10.0, 10.0, 5.0] * (Pload_max/1000)"
   ]
  },
  {
   "cell_type": "markdown",
   "id": "6c2bc984-bae8-403f-8130-d50efc8f5717",
   "metadata": {},
   "source": [
    "Optionally ban some choices:"
   ]
  },
  {
   "cell_type": "code",
   "execution_count": 24,
   "id": "9f65e094-4c58-4e9b-b4ee-b626f6504f6c",
   "metadata": {},
   "outputs": [],
   "source": [
    "# Solar power forbidden (optional)\n",
    "#xmax[3] = 1e-3\n",
    "# Wind power forbidden (optional)\n",
    "#xmax[4] = 0."
   ]
  },
  {
   "cell_type": "markdown",
   "id": "f1bd17b9-c02d-4280-8715-c46efe6c03f4",
   "metadata": {},
   "source": [
    "Check cost function on `xmin` and `xmax`"
   ]
  },
  {
   "cell_type": "code",
   "execution_count": 10,
   "id": "6d5ef67e-5d40-4bb0-a13d-65dc3d57bceb",
   "metadata": {},
   "outputs": [
    {
     "data": {
      "text/plain": [
       "((0.10149685980963595, 0.9998470957371233), (0.8229416738277807, 0.0))"
      ]
     },
     "execution_count": 10,
     "metadata": {},
     "output_type": "execute_result"
    }
   ],
   "source": [
    "obj_multi(xmin), obj_multi(xmax)"
   ]
  },
  {
   "cell_type": "markdown",
   "id": "4837904e-f5e6-49e0-801d-2f67126039f9",
   "metadata": {},
   "source": [
    "### Initial point generation from Random"
   ]
  },
  {
   "cell_type": "code",
   "execution_count": 40,
   "id": "d3a691ca-16e8-47e1-a2f8-76f2bde47b04",
   "metadata": {},
   "outputs": [
    {
     "data": {
      "text/plain": [
       "4×4 Matrix{Float64}:\n",
       "  1.68716   1.68716  0.483491   0.751346\n",
       " 15.5398   15.5398   5.91505    8.94261\n",
       "  2.80997   2.80997  5.3386     3.58987\n",
       "  1.5135    1.5135   0.0675057  6.99305"
      ]
     },
     "execution_count": 40,
     "metadata": {},
     "output_type": "execute_result"
    }
   ],
   "source": [
    "\"\"\"uniformly random vector between xmin and xmax, for a given PRNG seed\"\"\"\n",
    "function x0_rng(seed, xmin, xmax)\n",
    "    n = length(xmin)\n",
    "    rng = MersenneTwister(seed)\n",
    "    xmin + rand(rng, n).*(xmax-xmin)\n",
    "end\n",
    "# Test with 3 different seeds:\n",
    "[x0_rng(0, xmin, xmax) x0_rng(0, xmin, xmax) x0_rng(1, xmin, xmax) x0_rng(2, xmin, xmax)]"
   ]
  },
  {
   "cell_type": "markdown",
   "id": "3daceed1-2315-4eca-b7bd-b3a1e31cff09",
   "metadata": {},
   "source": [
    "### Wrapper of the optimization process\n",
    "\n",
    "This is an optional step, but recommended to explore easily the impact of the many parameters taken by optimization algorithms.\n",
    "\n",
    "See [optimization termination conditions](https://nlopt.readthedocs.io/en/latest/NLopt_Introduction/#termination-conditions) in NLopt documention for the meaning of `xtol_rel`"
   ]
  },
  {
   "cell_type": "code",
   "execution_count": 11,
   "id": "08491363-e1ce-47d3-a425-4bc83888be12",
   "metadata": {},
   "outputs": [
    {
     "data": {
      "text/plain": [
       "optim_mg"
      ]
     },
     "execution_count": 11,
     "metadata": {},
     "output_type": "execute_result"
    }
   ],
   "source": [
    "\"\"\"Optimize sizing of microgrid based on the `obj` function\n",
    "\n",
    "Parameters:\n",
    "- `x0`: initial sizing (for the algorithms which need them)\n",
    "- `shed_max`: load shedding penalty threshold (same as in `obj`)\n",
    "- `algo` could be one of LN_SBPLX, GN_DIRECT, GN_ESCH...\n",
    "- `maxeval`: maximum allowed number of calls to the objective function,\n",
    "  that is to the microgrid simulation\n",
    "- `xtol_rel`: termination condition based on relative change of sizing, see NLopt doc.\n",
    "- `srand`: random number generation seed (for algorithms which use some stochastic search)\n",
    "\n",
    "Problem bounds are taken as the global variables `xmin`, `xmax`,\n",
    "but could be added to the parameters as well.\n",
    "\"\"\"\n",
    "function optim_mg(x0, shed_max, algo=:LN_SBPLX, maxeval=1000, xtol_rel=1e-4, srand=1)\n",
    "    nx = length(x0) # number of optim variables\n",
    "    opt = Opt(algo, nx)\n",
    "    NLopt.srand(srand)\n",
    "    \n",
    "    opt.lower_bounds = xmin\n",
    "    opt.upper_bounds = xmax\n",
    "    opt.min_objective = (x, grad) -> obj(x, grad, shed_max)\n",
    "    opt.xtol_rel = xtol_rel\n",
    "    opt.maxeval = maxeval\n",
    "    \n",
    "    (fopt, xopt, ret) = optimize(opt, x0)\n",
    "    return fopt, xopt, ret, opt.numevals\n",
    "end"
   ]
  },
  {
   "cell_type": "markdown",
   "id": "11264431-19b1-4349-bc90-19d88bba1b87",
   "metadata": {},
   "source": [
    "### Run optimization & analyze results"
   ]
  },
  {
   "cell_type": "code",
   "execution_count": 12,
   "id": "29d0348c-3a48-466f-9e33-7fc923a0ba99",
   "metadata": {},
   "outputs": [
    {
     "data": {
      "text/plain": [
       "0.0001"
      ]
     },
     "execution_count": 12,
     "metadata": {},
     "output_type": "execute_result"
    }
   ],
   "source": [
    "maxeval=1000\n",
    "xtol_rel = 1e-4"
   ]
  },
  {
   "cell_type": "code",
   "execution_count": 59,
   "id": "383a932d-2a5c-4d62-b6a9-da31884bf848",
   "metadata": {},
   "outputs": [
    {
     "data": {
      "text/plain": [
       "2-element Vector{Float64}:\n",
       " 0.0\n",
       " 0.01"
      ]
     },
     "execution_count": 59,
     "metadata": {},
     "output_type": "execute_result"
    }
   ],
   "source": [
    "algo_list = [:GN_CRS2_LM, :GN_DIRECT, :GN_ESCH, :LN_SBPLX]\n",
    "srand_list = collect(1:5)\n",
    "maxeval_list = [10, 20, 30, 60] # close to 10^(1/4) ~ 1.8 increments\n",
    "maxeval_list = [maxeval_list; maxeval_list*10]\n",
    "shed_max_list = [0., 0.01]"
   ]
  },
  {
   "cell_type": "markdown",
   "id": "d22928bb-9c3a-47e6-a5b9-cdf017e59f80",
   "metadata": {},
   "source": [
    "Short version:"
   ]
  },
  {
   "cell_type": "code",
   "execution_count": 14,
   "id": "723c9a6a-1bb6-48bc-af2a-f72e75ee4444",
   "metadata": {},
   "outputs": [
    {
     "data": {
      "text/plain": [
       "2-element Vector{Float64}:\n",
       " 0.0\n",
       " 0.01"
      ]
     },
     "execution_count": 14,
     "metadata": {},
     "output_type": "execute_result"
    }
   ],
   "source": [
    "algo_list = [:GN_CRS2_LM, :LN_SBPLX]\n",
    "srand_list = collect(1:2)\n",
    "maxeval_list = [100, 1000] # close to 10^(1/4) ~ 1.8 increments\n",
    "shed_max_list = [0., 0.01]"
   ]
  },
  {
   "cell_type": "markdown",
   "id": "208a7df6-bfcb-4ad0-9fca-1b907baf93e0",
   "metadata": {},
   "source": [
    "Initial starting points for each seed `srand`:"
   ]
  },
  {
   "cell_type": "code",
   "execution_count": 60,
   "id": "e80afa44-ce54-42c0-9a3d-f5c797706667",
   "metadata": {},
   "outputs": [
    {
     "data": {
      "text/plain": [
       "5-element Vector{Vector{Float64}}:\n",
       " [0.4834907052541369, 5.915045432256765, 5.338595242528336, 0.06750573373843591]\n",
       " [0.751345771241941, 8.942607271569909, 3.589867014821392, 6.993050986142526]\n",
       " [1.6626830127935228, 16.87254047910793, 13.78630141409919, 8.279725362491114]\n",
       " [1.393074306890772, 14.926637765423816, 15.773952313776764, 7.931884627830944]\n",
       " [1.0863989706781596, 13.263546529065476, 5.144066424643939, 7.522314745748859]"
      ]
     },
     "execution_count": 60,
     "metadata": {},
     "output_type": "execute_result"
    }
   ],
   "source": [
    "[x0_rng(srand, xmin, xmax) for srand in srand_list]"
   ]
  },
  {
   "cell_type": "markdown",
   "id": "9140627d-e0e7-4fa3-9e5f-0bf2c2125ce8",
   "metadata": {},
   "source": [
    "Running the experiment, [constructing a DataFrame Row by Row](https://dataframes.juliadata.org/stable/man/getting_started/#Constructing-Row-by-Row)"
   ]
  },
  {
   "cell_type": "code",
   "execution_count": 61,
   "id": "21490dcb-e112-4c2f-bb77-6b76f5c7e74c",
   "metadata": {},
   "outputs": [
    {
     "data": {
      "text/html": [
       "<div><div style = \"float: left;\"><span>0×14 DataFrame</span></div><div style = \"clear: both;\"></div></div><div class = \"data-frame\" style = \"overflow-x: scroll;\"><table class = \"data-frame\" style = \"margin-bottom: 6px;\"><thead><tr class = \"header\"><th class = \"rowNumber\" style = \"font-weight: bold; text-align: right;\">Row</th><th style = \"text-align: left;\">shed_max</th><th style = \"text-align: left;\">algo</th><th style = \"text-align: left;\">srand</th><th style = \"text-align: left;\">maxeval</th><th style = \"text-align: left;\">numevals</th><th style = \"text-align: left;\">ret</th><th style = \"text-align: left;\">topt</th><th style = \"text-align: left;\">fopt</th><th style = \"text-align: left;\">lcoe_opt</th><th style = \"text-align: left;\">shed_rate_opt</th><th style = \"text-align: left;\">xopt_gen</th><th style = \"text-align: left;\">xopt_sto</th><th style = \"text-align: left;\">xopt_pv</th><th style = \"text-align: left;\">xopt_wind</th></tr><tr class = \"subheader headerLastRow\"><th class = \"rowNumber\" style = \"font-weight: bold; text-align: right;\"></th><th title = \"Float64\" style = \"text-align: left;\">Float64</th><th title = \"String\" style = \"text-align: left;\">String</th><th title = \"Int64\" style = \"text-align: left;\">Int64</th><th title = \"Int64\" style = \"text-align: left;\">Int64</th><th title = \"Int64\" style = \"text-align: left;\">Int64</th><th title = \"String\" style = \"text-align: left;\">String</th><th title = \"Float64\" style = \"text-align: left;\">Float64</th><th title = \"Float64\" style = \"text-align: left;\">Float64</th><th title = \"Float64\" style = \"text-align: left;\">Float64</th><th title = \"Float64\" style = \"text-align: left;\">Float64</th><th title = \"Float64\" style = \"text-align: left;\">Float64</th><th title = \"Float64\" style = \"text-align: left;\">Float64</th><th title = \"Float64\" style = \"text-align: left;\">Float64</th><th title = \"Float64\" style = \"text-align: left;\">Float64</th></tr></thead><tbody></tbody></table></div>"
      ],
      "text/latex": [
       "\\begin{tabular}{r|cccccccccc}\n",
       "\t& shed\\_max & algo & srand & maxeval & numevals & ret & topt & fopt & lcoe\\_opt & \\\\\n",
       "\t\\hline\n",
       "\t& Float64 & String & Int64 & Int64 & Int64 & String & Float64 & Float64 & Float64 & \\\\\n",
       "\t\\hline\n",
       "\\end{tabular}\n"
      ],
      "text/plain": [
       "\u001b[1m0×14 DataFrame\u001b[0m\n",
       "\u001b[1m Row \u001b[0m│\u001b[1m shed_max \u001b[0m\u001b[1m algo   \u001b[0m\u001b[1m srand \u001b[0m\u001b[1m maxeval \u001b[0m\u001b[1m numevals \u001b[0m\u001b[1m ret    \u001b[0m\u001b[1m topt    \u001b[0m\u001b[1m fopt    \u001b[0m\u001b[1m l\u001b[0m ⋯\n",
       "     │\u001b[90m Float64  \u001b[0m\u001b[90m String \u001b[0m\u001b[90m Int64 \u001b[0m\u001b[90m Int64   \u001b[0m\u001b[90m Int64    \u001b[0m\u001b[90m String \u001b[0m\u001b[90m Float64 \u001b[0m\u001b[90m Float64 \u001b[0m\u001b[90m F\u001b[0m ⋯\n",
       "─────┴──────────────────────────────────────────────────────────────────────────\n",
       "\u001b[36m                                                               6 columns omitted\u001b[0m"
      ]
     },
     "execution_count": 61,
     "metadata": {},
     "output_type": "execute_result"
    }
   ],
   "source": [
    "df = DataFrame(\n",
    "    shed_max=Float64[], algo=String[], srand=Int[], maxeval=Int[],\n",
    "    numevals=Int[], ret=String[], topt=Float64[],\n",
    "    fopt=Float64[], lcoe_opt=Float64[], shed_rate_opt=Float64[],\n",
    "    xopt_gen=Float64[], xopt_sto=Float64[], xopt_pv=Float64[], xopt_wind=Float64[]\n",
    ")"
   ]
  },
  {
   "cell_type": "code",
   "execution_count": 62,
   "id": "6659e9a8-95f9-4369-96e3-22bbf73b43fe",
   "metadata": {},
   "outputs": [
    {
     "name": "stdout",
     "output_type": "stream",
     "text": [
      "shed_max: 0.000\n",
      "maxeval=10, algo: GN_CRS2_LM, srand=1: 0.375415 in 0.0 s\n",
      "maxeval=10, algo: GN_CRS2_LM, srand=2: 0.363167 in 0.0 s\n",
      "maxeval=10, algo: GN_CRS2_LM, srand=3: 0.264891 in 0.0 s\n",
      "maxeval=10, algo: GN_CRS2_LM, srand=4: 0.430831 in 0.0 s\n",
      "maxeval=10, algo: GN_CRS2_LM, srand=5: 0.239529 in 0.0 s\n",
      "maxeval=10, algo: GN_DIRECT, srand=1: 0.400483 in 0.0 s\n",
      "maxeval=10, algo: GN_DIRECT, srand=2: 0.400483 in 0.0 s\n",
      "maxeval=10, algo: GN_DIRECT, srand=3: 0.400483 in 0.0 s\n",
      "maxeval=10, algo: GN_DIRECT, srand=4: 0.400483 in 0.0 s\n",
      "maxeval=10, algo: GN_DIRECT, srand=5: 0.400483 in 0.0 s\n",
      "maxeval=10, algo: GN_ESCH, srand=1: 0.338473 in 0.0 s\n",
      "maxeval=10, algo: GN_ESCH, srand=2: 211.388451 in 0.0 s\n",
      "maxeval=10, algo: GN_ESCH, srand=3: 0.253418 in 0.0 s\n",
      "maxeval=10, algo: GN_ESCH, srand=4: 0.829003 in 0.0 s\n",
      "maxeval=10, algo: GN_ESCH, srand=5: 10.051071 in 0.0 s\n",
      "maxeval=10, algo: LN_SBPLX, srand=1: 0.331165 in 0.0 s\n",
      "maxeval=10, algo: LN_SBPLX, srand=2: 0.456404 in 0.0 s\n",
      "maxeval=10, algo: LN_SBPLX, srand=3: 0.753196 in 0.0 s\n",
      "maxeval=10, algo: LN_SBPLX, srand=4: 0.722075 in 0.0 s\n",
      "maxeval=10, algo: LN_SBPLX, srand=5: 0.512529 in 0.0 s\n",
      "maxeval=20, algo: GN_CRS2_LM, srand=1: 0.375415 in 0.0 s\n",
      "maxeval=20, algo: GN_CRS2_LM, srand=2: 0.344541 in 0.0 s\n",
      "maxeval=20, algo: GN_CRS2_LM, srand=3: 0.264891 in 0.0 s\n",
      "maxeval=20, algo: GN_CRS2_LM, srand=4: 0.324644 in 0.0 s\n",
      "maxeval=20, algo: GN_CRS2_LM, srand=5: 0.239529 in 0.0 s\n",
      "maxeval=20, algo: GN_DIRECT, srand=1: 0.214565 in 0.0 s\n",
      "maxeval=20, algo: GN_DIRECT, srand=2: 0.214565 in 0.0 s\n",
      "maxeval=20, algo: GN_DIRECT, srand=3: 0.214565 in 0.0 s\n",
      "maxeval=20, algo: GN_DIRECT, srand=4: 0.214565 in 0.0 s\n",
      "maxeval=20, algo: GN_DIRECT, srand=5: 0.214565 in 0.0 s\n",
      "maxeval=20, algo: GN_ESCH, srand=1: 0.338473 in 0.0 s\n",
      "maxeval=20, algo: GN_ESCH, srand=2: 2.173919 in 0.0 s\n",
      "maxeval=20, algo: GN_ESCH, srand=3: 0.253418 in 0.0 s\n",
      "maxeval=20, algo: GN_ESCH, srand=4: 0.308210 in 0.0 s\n",
      "maxeval=20, algo: GN_ESCH, srand=5: 0.426045 in 0.0 s\n",
      "maxeval=20, algo: LN_SBPLX, srand=1: 0.300185 in 0.0 s\n",
      "maxeval=20, algo: LN_SBPLX, srand=2: 0.266592 in 0.0 s\n",
      "maxeval=20, algo: LN_SBPLX, srand=3: 0.742196 in 0.0 s\n",
      "maxeval=20, algo: LN_SBPLX, srand=4: 0.687705 in 0.0 s\n",
      "maxeval=20, algo: LN_SBPLX, srand=5: 0.507354 in 0.0 s\n",
      "maxeval=30, algo: GN_CRS2_LM, srand=1: 0.375415 in 0.0 s\n",
      "maxeval=30, algo: GN_CRS2_LM, srand=2: 0.301559 in 0.0 s\n",
      "maxeval=30, algo: GN_CRS2_LM, srand=3: 0.264891 in 0.0 s\n",
      "maxeval=30, algo: GN_CRS2_LM, srand=4: 0.324644 in 0.0 s\n",
      "maxeval=30, algo: GN_CRS2_LM, srand=5: 0.239529 in 0.0 s\n",
      "maxeval=30, algo: GN_DIRECT, srand=1: 0.213092 in 0.0 s\n",
      "maxeval=30, algo: GN_DIRECT, srand=2: 0.213092 in 0.0 s\n",
      "maxeval=30, algo: GN_DIRECT, srand=3: 0.213092 in 0.0 s\n",
      "maxeval=30, algo: GN_DIRECT, srand=4: 0.213092 in 0.0 s\n",
      "maxeval=30, algo: GN_DIRECT, srand=5: 0.213092 in 0.0 s\n",
      "maxeval=30, algo: GN_ESCH, srand=1: 0.241600 in 0.0 s\n",
      "maxeval=30, algo: GN_ESCH, srand=2: 2.173919 in 0.0 s\n",
      "maxeval=30, algo: GN_ESCH, srand=3: 0.253418 in 0.0 s\n",
      "maxeval=30, algo: GN_ESCH, srand=4: 0.308210 in 0.0 s\n",
      "maxeval=30, algo: GN_ESCH, srand=5: 0.426045 in 0.0 s\n",
      "maxeval=30, algo: LN_SBPLX, srand=1: 0.291215 in 0.0 s\n",
      "maxeval=30, algo: LN_SBPLX, srand=2: 0.247446 in 0.0 s\n",
      "maxeval=30, algo: LN_SBPLX, srand=3: 0.674541 in 0.0 s\n",
      "maxeval=30, algo: LN_SBPLX, srand=4: 0.544903 in 0.0 s\n",
      "maxeval=30, algo: LN_SBPLX, srand=5: 0.504476 in 0.0 s\n",
      "maxeval=60, algo: GN_CRS2_LM, srand=1: 0.309949 in 0.0 s\n",
      "maxeval=60, algo: GN_CRS2_LM, srand=2: 0.256866 in 0.0 s\n",
      "maxeval=60, algo: GN_CRS2_LM, srand=3: 0.240253 in 0.0 s\n",
      "maxeval=60, algo: GN_CRS2_LM, srand=4: 0.247965 in 0.0 s\n",
      "maxeval=60, algo: GN_CRS2_LM, srand=5: 0.228297 in 0.0 s\n",
      "maxeval=60, algo: GN_DIRECT, srand=1: 0.209773 in 0.0 s\n",
      "maxeval=60, algo: GN_DIRECT, srand=2: 0.209773 in 0.0 s\n",
      "maxeval=60, algo: GN_DIRECT, srand=3: 0.209773 in 0.0 s\n",
      "maxeval=60, algo: GN_DIRECT, srand=4: 0.209773 in 0.0 s\n",
      "maxeval=60, algo: GN_DIRECT, srand=5: 0.209773 in 0.0 s\n",
      "maxeval=60, algo: GN_ESCH, srand=1: 0.241600 in 0.0 s\n",
      "maxeval=60, algo: GN_ESCH, srand=2: 0.348503 in 0.0 s\n",
      "maxeval=60, algo: GN_ESCH, srand=3: 0.253418 in 0.0 s\n",
      "maxeval=60, algo: GN_ESCH, srand=4: 0.257181 in 0.0 s\n",
      "maxeval=60, algo: GN_ESCH, srand=5: 0.215798 in 0.0 s\n",
      "maxeval=60, algo: LN_SBPLX, srand=1: 0.273219 in 0.0 s\n",
      "maxeval=60, algo: LN_SBPLX, srand=2: 0.213805 in 0.0 s\n",
      "maxeval=60, algo: LN_SBPLX, srand=3: 0.673569 in 0.0 s\n",
      "maxeval=60, algo: LN_SBPLX, srand=4: 0.326056 in 0.0 s\n",
      "maxeval=60, algo: LN_SBPLX, srand=5: 0.320208 in 0.0 s\n",
      "maxeval=100, algo: GN_CRS2_LM, srand=1: 0.252524 in 0.0 s\n",
      "maxeval=100, algo: GN_CRS2_LM, srand=2: 0.232667 in 0.0 s\n",
      "maxeval=100, algo: GN_CRS2_LM, srand=3: 0.228618 in 0.0 s\n",
      "maxeval=100, algo: GN_CRS2_LM, srand=4: 0.247965 in 0.0 s\n",
      "maxeval=100, algo: GN_CRS2_LM, srand=5: 0.228297 in 0.0 s\n",
      "maxeval=100, algo: GN_DIRECT, srand=1: 0.209196 in 0.0 s\n",
      "maxeval=100, algo: GN_DIRECT, srand=2: 0.209196 in 0.0 s\n",
      "maxeval=100, algo: GN_DIRECT, srand=3: 0.209196 in 0.0 s\n",
      "maxeval=100, algo: GN_DIRECT, srand=4: 0.209196 in 0.0 s\n",
      "maxeval=100, algo: GN_DIRECT, srand=5: 0.209196 in 0.0 s\n",
      "maxeval=100, algo: GN_ESCH, srand=1: 0.241600 in 0.0 s\n",
      "maxeval=100, algo: GN_ESCH, srand=2: 0.348503 in 0.0 s\n",
      "maxeval=100, algo: GN_ESCH, srand=3: 0.253418 in 0.0 s\n",
      "maxeval=100, algo: GN_ESCH, srand=4: 0.257181 in 0.0 s\n",
      "maxeval=100, algo: GN_ESCH, srand=5: 0.215798 in 0.0 s\n",
      "maxeval=100, algo: LN_SBPLX, srand=1: 0.267120 in 0.0 s\n",
      "maxeval=100, algo: LN_SBPLX, srand=2: 0.213805 in 0.0 s\n",
      "maxeval=100, algo: LN_SBPLX, srand=3: 0.498256 in 0.0 s\n",
      "maxeval=100, algo: LN_SBPLX, srand=4: 0.235201 in 0.0 s\n",
      "maxeval=100, algo: LN_SBPLX, srand=5: 0.228831 in 0.0 s\n",
      "maxeval=200, algo: GN_CRS2_LM, srand=1: 0.225730 in 0.0 s\n",
      "maxeval=200, algo: GN_CRS2_LM, srand=2: 0.216161 in 0.0 s\n",
      "maxeval=200, algo: GN_CRS2_LM, srand=3: 0.213701 in 0.0 s\n",
      "maxeval=200, algo: GN_CRS2_LM, srand=4: 0.217388 in 0.0 s\n",
      "maxeval=200, algo: GN_CRS2_LM, srand=5: 0.215445 in 0.0 s\n",
      "maxeval=200, algo: GN_DIRECT, srand=1: 0.208588 in 0.0 s\n",
      "maxeval=200, algo: GN_DIRECT, srand=2: 0.208588 in 0.0 s\n",
      "maxeval=200, algo: GN_DIRECT, srand=3: 0.208588 in 0.0 s\n",
      "maxeval=200, algo: GN_DIRECT, srand=4: 0.208588 in 0.0 s\n",
      "maxeval=200, algo: GN_DIRECT, srand=5: 0.208588 in 0.0 s\n",
      "maxeval=200, algo: GN_ESCH, srand=1: 0.224014 in 0.0 s\n",
      "maxeval=200, algo: GN_ESCH, srand=2: 0.292400 in 0.0 s\n",
      "maxeval=200, algo: GN_ESCH, srand=3: 0.244692 in 0.0 s\n",
      "maxeval=200, algo: GN_ESCH, srand=4: 0.236318 in 0.0 s\n",
      "maxeval=200, algo: GN_ESCH, srand=5: 0.215798 in 0.0 s\n",
      "maxeval=200, algo: LN_SBPLX, srand=1: 0.210988 in 0.0 s\n",
      "maxeval=200, algo: LN_SBPLX, srand=2: 0.207709 in 0.0 s\n",
      "maxeval=200, algo: LN_SBPLX, srand=3: 0.210226 in 0.0 s\n",
      "maxeval=200, algo: LN_SBPLX, srand=4: 0.207692 in 0.0 s\n",
      "maxeval=200, algo: LN_SBPLX, srand=5: 0.216756 in 0.0 s\n",
      "maxeval=300, algo: GN_CRS2_LM, srand=1: 0.213162 in 0.1 s\n",
      "maxeval=300, algo: GN_CRS2_LM, srand=2: 0.211225 in 0.1 s\n",
      "maxeval=300, algo: GN_CRS2_LM, srand=3: 0.213175 in 0.1 s\n",
      "maxeval=300, algo: GN_CRS2_LM, srand=4: 0.210026 in 0.1 s\n",
      "maxeval=300, algo: GN_CRS2_LM, srand=5: 0.211090 in 0.1 s\n",
      "maxeval=300, algo: GN_DIRECT, srand=1: 0.208440 in 0.1 s\n",
      "maxeval=300, algo: GN_DIRECT, srand=2: 0.208440 in 0.1 s\n",
      "maxeval=300, algo: GN_DIRECT, srand=3: 0.208440 in 0.1 s\n",
      "maxeval=300, algo: GN_DIRECT, srand=4: 0.208440 in 0.1 s\n",
      "maxeval=300, algo: GN_DIRECT, srand=5: 0.208440 in 0.1 s\n",
      "maxeval=300, algo: GN_ESCH, srand=1: 0.223190 in 0.1 s\n",
      "maxeval=300, algo: GN_ESCH, srand=2: 0.270931 in 0.1 s\n",
      "maxeval=300, algo: GN_ESCH, srand=3: 0.244565 in 0.1 s\n",
      "maxeval=300, algo: GN_ESCH, srand=4: 0.232831 in 0.1 s\n",
      "maxeval=300, algo: GN_ESCH, srand=5: 0.212067 in 0.1 s\n",
      "maxeval=300, algo: LN_SBPLX, srand=1: 0.209125 in 0.1 s\n",
      "maxeval=300, algo: LN_SBPLX, srand=2: 0.207447 in 0.1 s\n",
      "maxeval=300, algo: LN_SBPLX, srand=3: 0.207503 in 0.1 s\n",
      "maxeval=300, algo: LN_SBPLX, srand=4: 0.207486 in 0.1 s\n",
      "maxeval=300, algo: LN_SBPLX, srand=5: 0.208415 in 0.1 s\n",
      "maxeval=600, algo: GN_CRS2_LM, srand=1: 0.207695 in 0.1 s\n",
      "maxeval=600, algo: GN_CRS2_LM, srand=2: 0.208228 in 0.1 s\n",
      "maxeval=600, algo: GN_CRS2_LM, srand=3: 0.207834 in 0.1 s\n",
      "maxeval=600, algo: GN_CRS2_LM, srand=4: 0.207712 in 0.1 s\n",
      "maxeval=600, algo: GN_CRS2_LM, srand=5: 0.207726 in 0.1 s\n",
      "maxeval=600, algo: GN_DIRECT, srand=1: 0.208338 in 0.1 s\n",
      "maxeval=600, algo: GN_DIRECT, srand=2: 0.208338 in 0.1 s\n",
      "maxeval=600, algo: GN_DIRECT, srand=3: 0.208338 in 0.1 s\n",
      "maxeval=600, algo: GN_DIRECT, srand=4: 0.208338 in 0.1 s\n",
      "maxeval=600, algo: GN_DIRECT, srand=5: 0.208338 in 0.1 s\n",
      "maxeval=600, algo: GN_ESCH, srand=1: 0.218609 in 0.1 s\n",
      "maxeval=600, algo: GN_ESCH, srand=2: 0.214908 in 0.1 s\n",
      "maxeval=600, algo: GN_ESCH, srand=3: 0.213863 in 0.1 s\n",
      "maxeval=600, algo: GN_ESCH, srand=4: 0.223672 in 0.1 s\n",
      "maxeval=600, algo: GN_ESCH, srand=5: 0.210739 in 0.1 s\n",
      "maxeval=600, algo: LN_SBPLX, srand=1: 0.209075 in 0.1 s\n",
      "maxeval=600, algo: LN_SBPLX, srand=2: 0.207430 in 0.1 s\n",
      "maxeval=600, algo: LN_SBPLX, srand=3: 0.207472 in 0.1 s\n",
      "maxeval=600, algo: LN_SBPLX, srand=4: 0.207448 in 0.1 s\n",
      "maxeval=600, algo: LN_SBPLX, srand=5: 0.207736 in 0.1 s\n",
      "shed_max: 0.010\n",
      "maxeval=10, algo: GN_CRS2_LM, srand=1: 0.223128 in 0.0 s\n",
      "maxeval=10, algo: GN_CRS2_LM, srand=2: 0.272989 in 0.0 s\n",
      "maxeval=10, algo: GN_CRS2_LM, srand=3: 0.264891 in 0.0 s\n",
      "maxeval=10, algo: GN_CRS2_LM, srand=4: 0.329029 in 0.0 s\n",
      "maxeval=10, algo: GN_CRS2_LM, srand=5: 0.239529 in 0.0 s\n",
      "maxeval=10, algo: GN_DIRECT, srand=1: 0.281658 in 0.0 s\n",
      "maxeval=10, algo: GN_DIRECT, srand=2: 0.281658 in 0.0 s\n",
      "maxeval=10, algo: GN_DIRECT, srand=3: 0.281658 in 0.0 s\n",
      "maxeval=10, algo: GN_DIRECT, srand=4: 0.281658 in 0.0 s\n",
      "maxeval=10, algo: GN_DIRECT, srand=5: 0.281658 in 0.0 s\n",
      "maxeval=10, algo: GN_ESCH, srand=1: 0.302702 in 0.0 s\n",
      "maxeval=10, algo: GN_ESCH, srand=2: 0.230007 in 0.0 s\n",
      "maxeval=10, algo: GN_ESCH, srand=3: 0.253418 in 0.0 s\n",
      "maxeval=10, algo: GN_ESCH, srand=4: 0.301740 in 0.0 s\n",
      "maxeval=10, algo: GN_ESCH, srand=5: 0.218457 in 0.0 s\n",
      "maxeval=10, algo: LN_SBPLX, srand=1: 0.276548 in 0.0 s\n",
      "maxeval=10, algo: LN_SBPLX, srand=2: 0.452736 in 0.0 s\n",
      "maxeval=10, algo: LN_SBPLX, srand=3: 0.751254 in 0.0 s\n",
      "maxeval=10, algo: LN_SBPLX, srand=4: 0.686969 in 0.0 s\n",
      "maxeval=10, algo: LN_SBPLX, srand=5: 0.505213 in 0.0 s\n",
      "maxeval=20, algo: GN_CRS2_LM, srand=1: 0.223128 in 0.0 s\n",
      "maxeval=20, algo: GN_CRS2_LM, srand=2: 0.272989 in 0.0 s\n",
      "maxeval=20, algo: GN_CRS2_LM, srand=3: 0.264891 in 0.0 s\n",
      "maxeval=20, algo: GN_CRS2_LM, srand=4: 0.281550 in 0.0 s\n",
      "maxeval=20, algo: GN_CRS2_LM, srand=5: 0.239529 in 0.0 s\n",
      "maxeval=20, algo: GN_DIRECT, srand=1: 0.201426 in 0.0 s\n",
      "maxeval=20, algo: GN_DIRECT, srand=2: 0.201426 in 0.0 s\n",
      "maxeval=20, algo: GN_DIRECT, srand=3: 0.201426 in 0.0 s\n",
      "maxeval=20, algo: GN_DIRECT, srand=4: 0.201426 in 0.0 s\n",
      "maxeval=20, algo: GN_DIRECT, srand=5: 0.201426 in 0.0 s\n",
      "maxeval=20, algo: GN_ESCH, srand=1: 0.268914 in 0.0 s\n",
      "maxeval=20, algo: GN_ESCH, srand=2: 0.230007 in 0.0 s\n",
      "maxeval=20, algo: GN_ESCH, srand=3: 0.253418 in 0.0 s\n",
      "maxeval=20, algo: GN_ESCH, srand=4: 0.276409 in 0.0 s\n",
      "maxeval=20, algo: GN_ESCH, srand=5: 0.218457 in 0.0 s\n",
      "maxeval=20, algo: LN_SBPLX, srand=1: 0.266549 in 0.0 s\n",
      "maxeval=20, algo: LN_SBPLX, srand=2: 0.216618 in 0.0 s\n",
      "maxeval=20, algo: LN_SBPLX, srand=3: 0.726692 in 0.0 s\n",
      "maxeval=20, algo: LN_SBPLX, srand=4: 0.684482 in 0.0 s\n",
      "maxeval=20, algo: LN_SBPLX, srand=5: 0.483362 in 0.0 s\n",
      "maxeval=30, algo: GN_CRS2_LM, srand=1: 0.223128 in 0.0 s\n",
      "maxeval=30, algo: GN_CRS2_LM, srand=2: 0.272989 in 0.0 s\n",
      "maxeval=30, algo: GN_CRS2_LM, srand=3: 0.264891 in 0.0 s\n",
      "maxeval=30, algo: GN_CRS2_LM, srand=4: 0.281550 in 0.0 s\n",
      "maxeval=30, algo: GN_CRS2_LM, srand=5: 0.239529 in 0.0 s\n",
      "maxeval=30, algo: GN_DIRECT, srand=1: 0.201426 in 0.0 s\n",
      "maxeval=30, algo: GN_DIRECT, srand=2: 0.201426 in 0.0 s\n",
      "maxeval=30, algo: GN_DIRECT, srand=3: 0.201426 in 0.0 s\n",
      "maxeval=30, algo: GN_DIRECT, srand=4: 0.201426 in 0.0 s\n",
      "maxeval=30, algo: GN_DIRECT, srand=5: 0.201426 in 0.0 s\n",
      "maxeval=30, algo: GN_ESCH, srand=1: 0.241600 in 0.0 s\n",
      "maxeval=30, algo: GN_ESCH, srand=2: 0.223904 in 0.0 s\n",
      "maxeval=30, algo: GN_ESCH, srand=3: 0.229359 in 0.0 s\n",
      "maxeval=30, algo: GN_ESCH, srand=4: 0.276409 in 0.0 s\n",
      "maxeval=30, algo: GN_ESCH, srand=5: 0.218457 in 0.0 s\n",
      "maxeval=30, algo: LN_SBPLX, srand=1: 0.264984 in 0.0 s\n",
      "maxeval=30, algo: LN_SBPLX, srand=2: 0.201350 in 0.0 s\n",
      "maxeval=30, algo: LN_SBPLX, srand=3: 0.723568 in 0.0 s\n",
      "maxeval=30, algo: LN_SBPLX, srand=4: 0.499206 in 0.0 s\n",
      "maxeval=30, algo: LN_SBPLX, srand=5: 0.236199 in 0.0 s\n",
      "maxeval=60, algo: GN_CRS2_LM, srand=1: 0.214349 in 0.0 s\n",
      "maxeval=60, algo: GN_CRS2_LM, srand=2: 0.250389 in 0.0 s\n",
      "maxeval=60, algo: GN_CRS2_LM, srand=3: 0.240253 in 0.0 s\n",
      "maxeval=60, algo: GN_CRS2_LM, srand=4: 0.281550 in 0.0 s\n",
      "maxeval=60, algo: GN_CRS2_LM, srand=5: 0.228297 in 0.0 s\n",
      "maxeval=60, algo: GN_DIRECT, srand=1: 0.195287 in 0.0 s\n",
      "maxeval=60, algo: GN_DIRECT, srand=2: 0.195287 in 0.0 s\n",
      "maxeval=60, algo: GN_DIRECT, srand=3: 0.195287 in 0.0 s\n",
      "maxeval=60, algo: GN_DIRECT, srand=4: 0.195287 in 0.0 s\n",
      "maxeval=60, algo: GN_DIRECT, srand=5: 0.195287 in 0.0 s\n",
      "maxeval=60, algo: GN_ESCH, srand=1: 0.241600 in 0.0 s\n",
      "maxeval=60, algo: GN_ESCH, srand=2: 0.223904 in 0.0 s\n",
      "maxeval=60, algo: GN_ESCH, srand=3: 0.229359 in 0.0 s\n",
      "maxeval=60, algo: GN_ESCH, srand=4: 0.229444 in 0.0 s\n",
      "maxeval=60, algo: GN_ESCH, srand=5: 0.215798 in 0.0 s\n",
      "maxeval=60, algo: LN_SBPLX, srand=1: 0.253786 in 0.0 s\n",
      "maxeval=60, algo: LN_SBPLX, srand=2: 0.200558 in 0.0 s\n",
      "maxeval=60, algo: LN_SBPLX, srand=3: 0.721031 in 0.0 s\n",
      "maxeval=60, algo: LN_SBPLX, srand=4: 0.285985 in 0.0 s\n",
      "maxeval=60, algo: LN_SBPLX, srand=5: 0.209873 in 0.0 s\n",
      "maxeval=100, algo: GN_CRS2_LM, srand=1: 0.210791 in 0.0 s\n",
      "maxeval=100, algo: GN_CRS2_LM, srand=2: 0.224434 in 0.0 s\n",
      "maxeval=100, algo: GN_CRS2_LM, srand=3: 0.219348 in 0.0 s\n",
      "maxeval=100, algo: GN_CRS2_LM, srand=4: 0.271879 in 0.0 s\n",
      "maxeval=100, algo: GN_CRS2_LM, srand=5: 0.228297 in 0.0 s\n",
      "maxeval=100, algo: GN_DIRECT, srand=1: 0.194715 in 0.0 s\n",
      "maxeval=100, algo: GN_DIRECT, srand=2: 0.194715 in 0.0 s\n",
      "maxeval=100, algo: GN_DIRECT, srand=3: 0.194715 in 0.0 s\n",
      "maxeval=100, algo: GN_DIRECT, srand=4: 0.194715 in 0.0 s\n",
      "maxeval=100, algo: GN_DIRECT, srand=5: 0.194715 in 0.0 s\n",
      "maxeval=100, algo: GN_ESCH, srand=1: 0.241600 in 0.0 s\n",
      "maxeval=100, algo: GN_ESCH, srand=2: 0.223904 in 0.0 s\n",
      "maxeval=100, algo: GN_ESCH, srand=3: 0.212352 in 0.0 s\n",
      "maxeval=100, algo: GN_ESCH, srand=4: 0.229444 in 0.0 s\n",
      "maxeval=100, algo: GN_ESCH, srand=5: 0.215798 in 0.0 s\n",
      "maxeval=100, algo: LN_SBPLX, srand=1: 0.251552 in 0.0 s\n",
      "maxeval=100, algo: LN_SBPLX, srand=2: 0.192673 in 0.0 s\n",
      "maxeval=100, algo: LN_SBPLX, srand=3: 0.671067 in 0.0 s\n",
      "maxeval=100, algo: LN_SBPLX, srand=4: 0.201735 in 0.0 s\n",
      "maxeval=100, algo: LN_SBPLX, srand=5: 0.191998 in 0.0 s\n",
      "maxeval=200, algo: GN_CRS2_LM, srand=1: 0.202667 in 0.0 s\n",
      "maxeval=200, algo: GN_CRS2_LM, srand=2: 0.212950 in 0.0 s\n",
      "maxeval=200, algo: GN_CRS2_LM, srand=3: 0.201341 in 0.0 s\n",
      "maxeval=200, algo: GN_CRS2_LM, srand=4: 0.214497 in 0.0 s\n",
      "maxeval=200, algo: GN_CRS2_LM, srand=5: 0.209527 in 0.0 s\n",
      "maxeval=200, algo: GN_DIRECT, srand=1: 0.192636 in 0.0 s\n",
      "maxeval=200, algo: GN_DIRECT, srand=2: 0.192636 in 0.0 s\n",
      "maxeval=200, algo: GN_DIRECT, srand=3: 0.192636 in 0.0 s\n",
      "maxeval=200, algo: GN_DIRECT, srand=4: 0.192636 in 0.0 s\n",
      "maxeval=200, algo: GN_DIRECT, srand=5: 0.192636 in 0.0 s\n",
      "maxeval=200, algo: GN_ESCH, srand=1: 0.212877 in 0.0 s\n",
      "maxeval=200, algo: GN_ESCH, srand=2: 0.207283 in 0.0 s\n",
      "maxeval=200, algo: GN_ESCH, srand=3: 0.201986 in 0.0 s\n",
      "maxeval=200, algo: GN_ESCH, srand=4: 0.217701 in 0.0 s\n",
      "maxeval=200, algo: GN_ESCH, srand=5: 0.205220 in 0.0 s\n",
      "maxeval=200, algo: LN_SBPLX, srand=1: 0.200400 in 0.0 s\n",
      "maxeval=200, algo: LN_SBPLX, srand=2: 0.190783 in 0.0 s\n",
      "maxeval=200, algo: LN_SBPLX, srand=3: 0.195017 in 0.0 s\n",
      "maxeval=200, algo: LN_SBPLX, srand=4: 0.190983 in 0.0 s\n",
      "maxeval=200, algo: LN_SBPLX, srand=5: 0.190803 in 0.0 s\n",
      "maxeval=300, algo: GN_CRS2_LM, srand=1: 0.195215 in 0.1 s\n",
      "maxeval=300, algo: GN_CRS2_LM, srand=2: 0.210275 in 0.1 s\n",
      "maxeval=300, algo: GN_CRS2_LM, srand=3: 0.196624 in 0.1 s\n",
      "maxeval=300, algo: GN_CRS2_LM, srand=4: 0.200454 in 0.1 s\n",
      "maxeval=300, algo: GN_CRS2_LM, srand=5: 0.199240 in 0.1 s\n",
      "maxeval=300, algo: GN_DIRECT, srand=1: 0.191998 in 0.1 s\n",
      "maxeval=300, algo: GN_DIRECT, srand=2: 0.191998 in 0.1 s\n",
      "maxeval=300, algo: GN_DIRECT, srand=3: 0.191998 in 0.1 s\n",
      "maxeval=300, algo: GN_DIRECT, srand=4: 0.191998 in 0.1 s\n",
      "maxeval=300, algo: GN_DIRECT, srand=5: 0.191998 in 0.1 s\n",
      "maxeval=300, algo: GN_ESCH, srand=1: 0.210508 in 0.1 s\n",
      "maxeval=300, algo: GN_ESCH, srand=2: 0.196796 in 0.1 s\n",
      "maxeval=300, algo: GN_ESCH, srand=3: 0.195896 in 0.1 s\n",
      "maxeval=300, algo: GN_ESCH, srand=4: 0.214426 in 0.1 s\n",
      "maxeval=300, algo: GN_ESCH, srand=5: 0.197974 in 0.1 s\n",
      "maxeval=300, algo: LN_SBPLX, srand=1: 0.195013 in 0.1 s\n",
      "maxeval=300, algo: LN_SBPLX, srand=2: 0.190729 in 0.1 s\n",
      "maxeval=300, algo: LN_SBPLX, srand=3: 0.191136 in 0.1 s\n",
      "maxeval=300, algo: LN_SBPLX, srand=4: 0.190660 in 0.1 s\n",
      "maxeval=300, algo: LN_SBPLX, srand=5: 0.190776 in 0.1 s\n",
      "maxeval=600, algo: GN_CRS2_LM, srand=1: 0.191461 in 0.1 s\n",
      "maxeval=600, algo: GN_CRS2_LM, srand=2: 0.191532 in 0.1 s\n",
      "maxeval=600, algo: GN_CRS2_LM, srand=3: 0.190926 in 0.1 s\n",
      "maxeval=600, algo: GN_CRS2_LM, srand=4: 0.191251 in 0.1 s\n",
      "maxeval=600, algo: GN_CRS2_LM, srand=5: 0.191055 in 0.1 s\n",
      "maxeval=600, algo: GN_DIRECT, srand=1: 0.191313 in 0.1 s\n",
      "maxeval=600, algo: GN_DIRECT, srand=2: 0.191313 in 0.1 s\n",
      "maxeval=600, algo: GN_DIRECT, srand=3: 0.191313 in 0.1 s\n",
      "maxeval=600, algo: GN_DIRECT, srand=4: 0.191313 in 0.1 s\n",
      "maxeval=600, algo: GN_DIRECT, srand=5: 0.191313 in 0.1 s\n",
      "maxeval=600, algo: GN_ESCH, srand=1: 0.203232 in 0.1 s\n",
      "maxeval=600, algo: GN_ESCH, srand=2: 0.195278 in 0.1 s\n",
      "maxeval=600, algo: GN_ESCH, srand=3: 0.195896 in 0.1 s\n",
      "maxeval=600, algo: GN_ESCH, srand=4: 0.194689 in 0.1 s\n",
      "maxeval=600, algo: GN_ESCH, srand=5: 0.195442 in 0.1 s\n",
      "maxeval=600, algo: LN_SBPLX, srand=1: 0.192925 in 0.1 s\n",
      "maxeval=600, algo: LN_SBPLX, srand=2: 0.190726 in 0.1 s\n",
      "maxeval=600, algo: LN_SBPLX, srand=3: 0.191062 in 0.1 s\n",
      "maxeval=600, algo: LN_SBPLX, srand=4: 0.190633 in 0.1 s\n",
      "maxeval=600, algo: LN_SBPLX, srand=5: 0.190776 in 0.1 s\n",
      "Experiment run in 10.7 s\n"
     ]
    }
   ],
   "source": [
    "t_exp = @elapsed for shed_max in shed_max_list # problem type\n",
    "    @printf(\"shed_max: %.3f\\n\", shed_max)\n",
    "    for maxeval in maxeval_list, algo in algo_list, srand in srand_list # optimizer settings\n",
    "        x0 = x0_rng(srand, xmin, xmax)\n",
    "        @printf(\"maxeval=%d, algo: %s, srand=%d: \", maxeval, algo, srand)\n",
    "        topt = @elapsed fopt, xopt, ret, numevals = optim_mg(x0, shed_max, algo, maxeval, xtol_rel, srand)\n",
    "        @printf(\"%.6f in %.1f s\\n\", fopt, topt)\n",
    "        # round to 1/100th of kW\n",
    "        xopt = round.(xopt*1000; digits=2) # kW\n",
    "        # compute multiobjective performance\n",
    "        lcoe_opt, shed_rate_opt = obj_multi(xopt)\n",
    "        push!(df, (\n",
    "                shed_max, String(algo), srand, maxeval,\n",
    "                numevals, String(ret), topt,\n",
    "                fopt, lcoe_opt, shed_rate_opt,\n",
    "                xopt[1], xopt[2], xopt[3], xopt[4]     \n",
    "        ))\n",
    "    end\n",
    "end\n",
    "@printf(\"Experiment run in %.1f s\\n\", t_exp)"
   ]
  },
  {
   "cell_type": "code",
   "execution_count": 63,
   "id": "98184c88-93b6-4bbc-a014-0c4c662bc81e",
   "metadata": {},
   "outputs": [
    {
     "data": {
      "text/html": [
       "<div><div style = \"float: left;\"><span>320×14 DataFrame</span></div><div style = \"float: right;\"><span style = \"font-style: italic;\">295 rows omitted</span></div><div style = \"clear: both;\"></div></div><div class = \"data-frame\" style = \"overflow-x: scroll;\"><table class = \"data-frame\" style = \"margin-bottom: 6px;\"><thead><tr class = \"header\"><th class = \"rowNumber\" style = \"font-weight: bold; text-align: right;\">Row</th><th style = \"text-align: left;\">shed_max</th><th style = \"text-align: left;\">algo</th><th style = \"text-align: left;\">srand</th><th style = \"text-align: left;\">maxeval</th><th style = \"text-align: left;\">numevals</th><th style = \"text-align: left;\">ret</th><th style = \"text-align: left;\">topt</th><th style = \"text-align: left;\">fopt</th><th style = \"text-align: left;\">lcoe_opt</th><th style = \"text-align: left;\">shed_rate_opt</th><th style = \"text-align: left;\">xopt_gen</th><th style = \"text-align: left;\">xopt_sto</th><th style = \"text-align: left;\">xopt_pv</th><th style = \"text-align: left;\">xopt_wind</th></tr><tr class = \"subheader headerLastRow\"><th class = \"rowNumber\" style = \"font-weight: bold; text-align: right;\"></th><th title = \"Float64\" style = \"text-align: left;\">Float64</th><th title = \"String\" style = \"text-align: left;\">String</th><th title = \"Int64\" style = \"text-align: left;\">Int64</th><th title = \"Int64\" style = \"text-align: left;\">Int64</th><th title = \"Int64\" style = \"text-align: left;\">Int64</th><th title = \"String\" style = \"text-align: left;\">String</th><th title = \"Float64\" style = \"text-align: left;\">Float64</th><th title = \"Float64\" style = \"text-align: left;\">Float64</th><th title = \"Float64\" style = \"text-align: left;\">Float64</th><th title = \"Float64\" style = \"text-align: left;\">Float64</th><th title = \"Float64\" style = \"text-align: left;\">Float64</th><th title = \"Float64\" style = \"text-align: left;\">Float64</th><th title = \"Float64\" style = \"text-align: left;\">Float64</th><th title = \"Float64\" style = \"text-align: left;\">Float64</th></tr></thead><tbody><tr><td class = \"rowNumber\" style = \"font-weight: bold; text-align: right;\">1</td><td style = \"text-align: right;\">0.0</td><td style = \"text-align: left;\">GN_CRS2_LM</td><td style = \"text-align: right;\">1</td><td style = \"text-align: right;\">10</td><td style = \"text-align: right;\">10</td><td style = \"text-align: left;\">MAXEVAL_REACHED</td><td style = \"text-align: right;\">0.0018255</td><td style = \"text-align: right;\">0.375415</td><td style = \"text-align: right;\">144.911</td><td style = \"text-align: right;\">0.0</td><td style = \"text-align: right;\">1795.2</td><td style = \"text-align: right;\">15270.9</td><td style = \"text-align: right;\">1452.62</td><td style = \"text-align: right;\">333.33</td></tr><tr><td class = \"rowNumber\" style = \"font-weight: bold; text-align: right;\">2</td><td style = \"text-align: right;\">0.0</td><td style = \"text-align: left;\">GN_CRS2_LM</td><td style = \"text-align: right;\">2</td><td style = \"text-align: right;\">10</td><td style = \"text-align: right;\">10</td><td style = \"text-align: left;\">MAXEVAL_REACHED</td><td style = \"text-align: right;\">0.00191205</td><td style = \"text-align: right;\">0.363167</td><td style = \"text-align: right;\">319.591</td><td style = \"text-align: right;\">0.0</td><td style = \"text-align: right;\">1749.28</td><td style = \"text-align: right;\">8436.62</td><td style = \"text-align: right;\">14451.0</td><td style = \"text-align: right;\">679.77</td></tr><tr><td class = \"rowNumber\" style = \"font-weight: bold; text-align: right;\">3</td><td style = \"text-align: right;\">0.0</td><td style = \"text-align: left;\">GN_CRS2_LM</td><td style = \"text-align: right;\">3</td><td style = \"text-align: right;\">10</td><td style = \"text-align: right;\">10</td><td style = \"text-align: left;\">MAXEVAL_REACHED</td><td style = \"text-align: right;\">0.0019251</td><td style = \"text-align: right;\">0.264891</td><td style = \"text-align: right;\">229.744</td><td style = \"text-align: right;\">0.0</td><td style = \"text-align: right;\">1829.11</td><td style = \"text-align: right;\">15299.7</td><td style = \"text-align: right;\">2144.62</td><td style = \"text-align: right;\">1768.82</td></tr><tr><td class = \"rowNumber\" style = \"font-weight: bold; text-align: right;\">4</td><td style = \"text-align: right;\">0.0</td><td style = \"text-align: left;\">GN_CRS2_LM</td><td style = \"text-align: right;\">4</td><td style = \"text-align: right;\">10</td><td style = \"text-align: right;\">10</td><td style = \"text-align: left;\">MAXEVAL_REACHED</td><td style = \"text-align: right;\">0.00218563</td><td style = \"text-align: right;\">0.430831</td><td style = \"text-align: right;\">420.609</td><td style = \"text-align: right;\">0.0</td><td style = \"text-align: right;\">1767.76</td><td style = \"text-align: right;\">16786.7</td><td style = \"text-align: right;\">2797.62</td><td style = \"text-align: right;\">5098.25</td></tr><tr><td class = \"rowNumber\" style = \"font-weight: bold; text-align: right;\">5</td><td style = \"text-align: right;\">0.0</td><td style = \"text-align: left;\">GN_CRS2_LM</td><td style = \"text-align: right;\">5</td><td style = \"text-align: right;\">10</td><td style = \"text-align: right;\">10</td><td style = \"text-align: left;\">MAXEVAL_REACHED</td><td style = \"text-align: right;\">0.00372152</td><td style = \"text-align: right;\">0.239529</td><td style = \"text-align: right;\">123.071</td><td style = \"text-align: right;\">0.0</td><td style = \"text-align: right;\">1966.93</td><td style = \"text-align: right;\">3216.24</td><td style = \"text-align: right;\">415.89</td><td style = \"text-align: right;\">1745.88</td></tr><tr><td class = \"rowNumber\" style = \"font-weight: bold; text-align: right;\">6</td><td style = \"text-align: right;\">0.0</td><td style = \"text-align: left;\">GN_DIRECT</td><td style = \"text-align: right;\">1</td><td style = \"text-align: right;\">10</td><td style = \"text-align: right;\">10</td><td style = \"text-align: left;\">MAXEVAL_REACHED</td><td style = \"text-align: right;\">0.00855499</td><td style = \"text-align: right;\">0.400483</td><td style = \"text-align: right;\">375.534</td><td style = \"text-align: right;\">0.0</td><td style = \"text-align: right;\">1707.0</td><td style = \"text-align: right;\">2845.0</td><td style = \"text-align: right;\">8535.5</td><td style = \"text-align: right;\">4267.5</td></tr><tr><td class = \"rowNumber\" style = \"font-weight: bold; text-align: right;\">7</td><td style = \"text-align: right;\">0.0</td><td style = \"text-align: left;\">GN_DIRECT</td><td style = \"text-align: right;\">2</td><td style = \"text-align: right;\">10</td><td style = \"text-align: right;\">10</td><td style = \"text-align: left;\">MAXEVAL_REACHED</td><td style = \"text-align: right;\">0.00173695</td><td style = \"text-align: right;\">0.400483</td><td style = \"text-align: right;\">375.534</td><td style = \"text-align: right;\">0.0</td><td style = \"text-align: right;\">1707.0</td><td style = \"text-align: right;\">2845.0</td><td style = \"text-align: right;\">8535.5</td><td style = \"text-align: right;\">4267.5</td></tr><tr><td class = \"rowNumber\" style = \"font-weight: bold; text-align: right;\">8</td><td style = \"text-align: right;\">0.0</td><td style = \"text-align: left;\">GN_DIRECT</td><td style = \"text-align: right;\">3</td><td style = \"text-align: right;\">10</td><td style = \"text-align: right;\">10</td><td style = \"text-align: left;\">MAXEVAL_REACHED</td><td style = \"text-align: right;\">0.00176776</td><td style = \"text-align: right;\">0.400483</td><td style = \"text-align: right;\">375.534</td><td style = \"text-align: right;\">0.0</td><td style = \"text-align: right;\">1707.0</td><td style = \"text-align: right;\">2845.0</td><td style = \"text-align: right;\">8535.5</td><td style = \"text-align: right;\">4267.5</td></tr><tr><td class = \"rowNumber\" style = \"font-weight: bold; text-align: right;\">9</td><td style = \"text-align: right;\">0.0</td><td style = \"text-align: left;\">GN_DIRECT</td><td style = \"text-align: right;\">4</td><td style = \"text-align: right;\">10</td><td style = \"text-align: right;\">10</td><td style = \"text-align: left;\">MAXEVAL_REACHED</td><td style = \"text-align: right;\">0.0019761</td><td style = \"text-align: right;\">0.400483</td><td style = \"text-align: right;\">375.534</td><td style = \"text-align: right;\">0.0</td><td style = \"text-align: right;\">1707.0</td><td style = \"text-align: right;\">2845.0</td><td style = \"text-align: right;\">8535.5</td><td style = \"text-align: right;\">4267.5</td></tr><tr><td class = \"rowNumber\" style = \"font-weight: bold; text-align: right;\">10</td><td style = \"text-align: right;\">0.0</td><td style = \"text-align: left;\">GN_DIRECT</td><td style = \"text-align: right;\">5</td><td style = \"text-align: right;\">10</td><td style = \"text-align: right;\">10</td><td style = \"text-align: left;\">MAXEVAL_REACHED</td><td style = \"text-align: right;\">0.00209762</td><td style = \"text-align: right;\">0.400483</td><td style = \"text-align: right;\">375.534</td><td style = \"text-align: right;\">0.0</td><td style = \"text-align: right;\">1707.0</td><td style = \"text-align: right;\">2845.0</td><td style = \"text-align: right;\">8535.5</td><td style = \"text-align: right;\">4267.5</td></tr><tr><td class = \"rowNumber\" style = \"font-weight: bold; text-align: right;\">11</td><td style = \"text-align: right;\">0.0</td><td style = \"text-align: left;\">GN_ESCH</td><td style = \"text-align: right;\">1</td><td style = \"text-align: right;\">10</td><td style = \"text-align: right;\">10</td><td style = \"text-align: left;\">MAXEVAL_REACHED</td><td style = \"text-align: right;\">0.00644926</td><td style = \"text-align: right;\">0.338473</td><td style = \"text-align: right;\">301.658</td><td style = \"text-align: right;\">0.0</td><td style = \"text-align: right;\">1532.76</td><td style = \"text-align: right;\">9547.9</td><td style = \"text-align: right;\">454.7</td><td style = \"text-align: right;\">4426.68</td></tr><tr><td class = \"rowNumber\" style = \"font-weight: bold; text-align: right;\">12</td><td style = \"text-align: right;\">0.0</td><td style = \"text-align: left;\">GN_ESCH</td><td style = \"text-align: right;\">2</td><td style = \"text-align: right;\">10</td><td style = \"text-align: right;\">10</td><td style = \"text-align: left;\">MAXEVAL_REACHED</td><td style = \"text-align: right;\">0.0018655</td><td style = \"text-align: right;\">211.388</td><td style = \"text-align: right;\">394.375</td><td style = \"text-align: right;\">0.0</td><td style = \"text-align: right;\">1076.8</td><td style = \"text-align: right;\">3052.6</td><td style = \"text-align: right;\">9781.81</td><td style = \"text-align: right;\">4267.52</td></tr><tr><td class = \"rowNumber\" style = \"font-weight: bold; text-align: right;\">13</td><td style = \"text-align: right;\">0.0</td><td style = \"text-align: left;\">GN_ESCH</td><td style = \"text-align: right;\">3</td><td style = \"text-align: right;\">10</td><td style = \"text-align: right;\">10</td><td style = \"text-align: left;\">MAXEVAL_REACHED</td><td style = \"text-align: right;\">0.00213038</td><td style = \"text-align: right;\">0.253418</td><td style = \"text-align: right;\">214.901</td><td style = \"text-align: right;\">0.0</td><td style = \"text-align: right;\">1610.13</td><td style = \"text-align: right;\">13587.6</td><td style = \"text-align: right;\">4100.48</td><td style = \"text-align: right;\">1120.23</td></tr><tr><td style = \"text-align: right;\">&vellip;</td><td style = \"text-align: right;\">&vellip;</td><td style = \"text-align: right;\">&vellip;</td><td style = \"text-align: right;\">&vellip;</td><td style = \"text-align: right;\">&vellip;</td><td style = \"text-align: right;\">&vellip;</td><td style = \"text-align: right;\">&vellip;</td><td style = \"text-align: right;\">&vellip;</td><td style = \"text-align: right;\">&vellip;</td><td style = \"text-align: right;\">&vellip;</td><td style = \"text-align: right;\">&vellip;</td><td style = \"text-align: right;\">&vellip;</td><td style = \"text-align: right;\">&vellip;</td><td style = \"text-align: right;\">&vellip;</td><td style = \"text-align: right;\">&vellip;</td></tr><tr><td class = \"rowNumber\" style = \"font-weight: bold; text-align: right;\">309</td><td style = \"text-align: right;\">0.01</td><td style = \"text-align: left;\">GN_DIRECT</td><td style = \"text-align: right;\">4</td><td style = \"text-align: right;\">600</td><td style = \"text-align: right;\">600</td><td style = \"text-align: left;\">MAXEVAL_REACHED</td><td style = \"text-align: right;\">0.120303</td><td style = \"text-align: right;\">0.191313</td><td style = \"text-align: right;\">109.385</td><td style = \"text-align: right;\">0.0</td><td style = \"text-align: right;\">910.87</td><td style = \"text-align: right;\">1838.13</td><td style = \"text-align: right;\">1542.44</td><td style = \"text-align: right;\">1375.67</td></tr><tr><td class = \"rowNumber\" style = \"font-weight: bold; text-align: right;\">310</td><td style = \"text-align: right;\">0.01</td><td style = \"text-align: left;\">GN_DIRECT</td><td style = \"text-align: right;\">5</td><td style = \"text-align: right;\">600</td><td style = \"text-align: right;\">600</td><td style = \"text-align: left;\">MAXEVAL_REACHED</td><td style = \"text-align: right;\">0.122205</td><td style = \"text-align: right;\">0.191313</td><td style = \"text-align: right;\">109.385</td><td style = \"text-align: right;\">0.0</td><td style = \"text-align: right;\">910.87</td><td style = \"text-align: right;\">1838.13</td><td style = \"text-align: right;\">1542.44</td><td style = \"text-align: right;\">1375.67</td></tr><tr><td class = \"rowNumber\" style = \"font-weight: bold; text-align: right;\">311</td><td style = \"text-align: right;\">0.01</td><td style = \"text-align: left;\">GN_ESCH</td><td style = \"text-align: right;\">1</td><td style = \"text-align: right;\">600</td><td style = \"text-align: right;\">600</td><td style = \"text-align: left;\">MAXEVAL_REACHED</td><td style = \"text-align: right;\">0.124398</td><td style = \"text-align: right;\">0.203232</td><td style = \"text-align: right;\">119.856</td><td style = \"text-align: right;\">0.0</td><td style = \"text-align: right;\">1041.52</td><td style = \"text-align: right;\">2148.7</td><td style = \"text-align: right;\">2839.37</td><td style = \"text-align: right;\">1140.84</td></tr><tr><td class = \"rowNumber\" style = \"font-weight: bold; text-align: right;\">312</td><td style = \"text-align: right;\">0.01</td><td style = \"text-align: left;\">GN_ESCH</td><td style = \"text-align: right;\">2</td><td style = \"text-align: right;\">600</td><td style = \"text-align: right;\">600</td><td style = \"text-align: left;\">MAXEVAL_REACHED</td><td style = \"text-align: right;\">0.122059</td><td style = \"text-align: right;\">0.195278</td><td style = \"text-align: right;\">109.322</td><td style = \"text-align: right;\">0.0</td><td style = \"text-align: right;\">1032.94</td><td style = \"text-align: right;\">1985.82</td><td style = \"text-align: right;\">1753.43</td><td style = \"text-align: right;\">1284.97</td></tr><tr><td class = \"rowNumber\" style = \"font-weight: bold; text-align: right;\">313</td><td style = \"text-align: right;\">0.01</td><td style = \"text-align: left;\">GN_ESCH</td><td style = \"text-align: right;\">3</td><td style = \"text-align: right;\">600</td><td style = \"text-align: right;\">600</td><td style = \"text-align: left;\">MAXEVAL_REACHED</td><td style = \"text-align: right;\">0.119798</td><td style = \"text-align: right;\">0.195896</td><td style = \"text-align: right;\">102.49</td><td style = \"text-align: right;\">0.0</td><td style = \"text-align: right;\">1033.24</td><td style = \"text-align: right;\">1123.96</td><td style = \"text-align: right;\">1419.45</td><td style = \"text-align: right;\">1362.57</td></tr><tr><td class = \"rowNumber\" style = \"font-weight: bold; text-align: right;\">314</td><td style = \"text-align: right;\">0.01</td><td style = \"text-align: left;\">GN_ESCH</td><td style = \"text-align: right;\">4</td><td style = \"text-align: right;\">600</td><td style = \"text-align: right;\">600</td><td style = \"text-align: left;\">MAXEVAL_REACHED</td><td style = \"text-align: right;\">0.116653</td><td style = \"text-align: right;\">0.194689</td><td style = \"text-align: right;\">101.205</td><td style = \"text-align: right;\">0.0</td><td style = \"text-align: right;\">988.07</td><td style = \"text-align: right;\">1617.59</td><td style = \"text-align: right;\">1277.62</td><td style = \"text-align: right;\">1320.16</td></tr><tr><td class = \"rowNumber\" style = \"font-weight: bold; text-align: right;\">315</td><td style = \"text-align: right;\">0.01</td><td style = \"text-align: left;\">GN_ESCH</td><td style = \"text-align: right;\">5</td><td style = \"text-align: right;\">600</td><td style = \"text-align: right;\">600</td><td style = \"text-align: left;\">MAXEVAL_REACHED</td><td style = \"text-align: right;\">0.122017</td><td style = \"text-align: right;\">0.195442</td><td style = \"text-align: right;\">108.477</td><td style = \"text-align: right;\">0.0</td><td style = \"text-align: right;\">1041.73</td><td style = \"text-align: right;\">1545.24</td><td style = \"text-align: right;\">1371.25</td><td style = \"text-align: right;\">1439.45</td></tr><tr><td class = \"rowNumber\" style = \"font-weight: bold; text-align: right;\">316</td><td style = \"text-align: right;\">0.01</td><td style = \"text-align: left;\">LN_SBPLX</td><td style = \"text-align: right;\">1</td><td style = \"text-align: right;\">600</td><td style = \"text-align: right;\">538</td><td style = \"text-align: left;\">XTOL_REACHED</td><td style = \"text-align: right;\">0.108074</td><td style = \"text-align: right;\">0.192925</td><td style = \"text-align: right;\">117.039</td><td style = \"text-align: right;\">0.0</td><td style = \"text-align: right;\">889.63</td><td style = \"text-align: right;\">3205.08</td><td style = \"text-align: right;\">1999.72</td><td style = \"text-align: right;\">1213.75</td></tr><tr><td class = \"rowNumber\" style = \"font-weight: bold; text-align: right;\">317</td><td style = \"text-align: right;\">0.01</td><td style = \"text-align: left;\">LN_SBPLX</td><td style = \"text-align: right;\">2</td><td style = \"text-align: right;\">600</td><td style = \"text-align: right;\">399</td><td style = \"text-align: left;\">XTOL_REACHED</td><td style = \"text-align: right;\">0.0840213</td><td style = \"text-align: right;\">0.190726</td><td style = \"text-align: right;\">107.005</td><td style = \"text-align: right;\">0.0</td><td style = \"text-align: right;\">889.16</td><td style = \"text-align: right;\">1674.31</td><td style = \"text-align: right;\">1447.27</td><td style = \"text-align: right;\">1380.22</td></tr><tr><td class = \"rowNumber\" style = \"font-weight: bold; text-align: right;\">318</td><td style = \"text-align: right;\">0.01</td><td style = \"text-align: left;\">LN_SBPLX</td><td style = \"text-align: right;\">3</td><td style = \"text-align: right;\">600</td><td style = \"text-align: right;\">489</td><td style = \"text-align: left;\">XTOL_REACHED</td><td style = \"text-align: right;\">0.0964537</td><td style = \"text-align: right;\">0.191062</td><td style = \"text-align: right;\">104.214</td><td style = \"text-align: right;\">0.0</td><td style = \"text-align: right;\">889.67</td><td style = \"text-align: right;\">1329.04</td><td style = \"text-align: right;\">1393.27</td><td style = \"text-align: right;\">1386.14</td></tr><tr><td class = \"rowNumber\" style = \"font-weight: bold; text-align: right;\">319</td><td style = \"text-align: right;\">0.01</td><td style = \"text-align: left;\">LN_SBPLX</td><td style = \"text-align: right;\">4</td><td style = \"text-align: right;\">600</td><td style = \"text-align: right;\">440</td><td style = \"text-align: left;\">XTOL_REACHED</td><td style = \"text-align: right;\">0.0891617</td><td style = \"text-align: right;\">0.190633</td><td style = \"text-align: right;\">108.671</td><td style = \"text-align: right;\">0.0</td><td style = \"text-align: right;\">888.59</td><td style = \"text-align: right;\">1874.1</td><td style = \"text-align: right;\">1545.7</td><td style = \"text-align: right;\">1357.51</td></tr><tr><td class = \"rowNumber\" style = \"font-weight: bold; text-align: right;\">320</td><td style = \"text-align: right;\">0.01</td><td style = \"text-align: left;\">LN_SBPLX</td><td style = \"text-align: right;\">5</td><td style = \"text-align: right;\">600</td><td style = \"text-align: right;\">401</td><td style = \"text-align: left;\">XTOL_REACHED</td><td style = \"text-align: right;\">0.0849646</td><td style = \"text-align: right;\">0.190776</td><td style = \"text-align: right;\">108.441</td><td style = \"text-align: right;\">0.0</td><td style = \"text-align: right;\">887.64</td><td style = \"text-align: right;\">1673.0</td><td style = \"text-align: right;\">1490.62</td><td style = \"text-align: right;\">1395.31</td></tr></tbody></table></div>"
      ],
      "text/latex": [
       "\\begin{tabular}{r|ccccccccc}\n",
       "\t& shed\\_max & algo & srand & maxeval & numevals & ret & topt & fopt & \\\\\n",
       "\t\\hline\n",
       "\t& Float64 & String & Int64 & Int64 & Int64 & String & Float64 & Float64 & \\\\\n",
       "\t\\hline\n",
       "\t1 & 0.0 & GN\\_CRS2\\_LM & 1 & 10 & 10 & MAXEVAL\\_REACHED & 0.0018255 & 0.375415 & $\\dots$ \\\\\n",
       "\t2 & 0.0 & GN\\_CRS2\\_LM & 2 & 10 & 10 & MAXEVAL\\_REACHED & 0.00191205 & 0.363167 & $\\dots$ \\\\\n",
       "\t3 & 0.0 & GN\\_CRS2\\_LM & 3 & 10 & 10 & MAXEVAL\\_REACHED & 0.0019251 & 0.264891 & $\\dots$ \\\\\n",
       "\t4 & 0.0 & GN\\_CRS2\\_LM & 4 & 10 & 10 & MAXEVAL\\_REACHED & 0.00218563 & 0.430831 & $\\dots$ \\\\\n",
       "\t5 & 0.0 & GN\\_CRS2\\_LM & 5 & 10 & 10 & MAXEVAL\\_REACHED & 0.00372152 & 0.239529 & $\\dots$ \\\\\n",
       "\t6 & 0.0 & GN\\_DIRECT & 1 & 10 & 10 & MAXEVAL\\_REACHED & 0.00855499 & 0.400483 & $\\dots$ \\\\\n",
       "\t7 & 0.0 & GN\\_DIRECT & 2 & 10 & 10 & MAXEVAL\\_REACHED & 0.00173695 & 0.400483 & $\\dots$ \\\\\n",
       "\t8 & 0.0 & GN\\_DIRECT & 3 & 10 & 10 & MAXEVAL\\_REACHED & 0.00176776 & 0.400483 & $\\dots$ \\\\\n",
       "\t9 & 0.0 & GN\\_DIRECT & 4 & 10 & 10 & MAXEVAL\\_REACHED & 0.0019761 & 0.400483 & $\\dots$ \\\\\n",
       "\t10 & 0.0 & GN\\_DIRECT & 5 & 10 & 10 & MAXEVAL\\_REACHED & 0.00209762 & 0.400483 & $\\dots$ \\\\\n",
       "\t11 & 0.0 & GN\\_ESCH & 1 & 10 & 10 & MAXEVAL\\_REACHED & 0.00644926 & 0.338473 & $\\dots$ \\\\\n",
       "\t12 & 0.0 & GN\\_ESCH & 2 & 10 & 10 & MAXEVAL\\_REACHED & 0.0018655 & 211.388 & $\\dots$ \\\\\n",
       "\t13 & 0.0 & GN\\_ESCH & 3 & 10 & 10 & MAXEVAL\\_REACHED & 0.00213038 & 0.253418 & $\\dots$ \\\\\n",
       "\t14 & 0.0 & GN\\_ESCH & 4 & 10 & 10 & MAXEVAL\\_REACHED & 0.00182389 & 0.829003 & $\\dots$ \\\\\n",
       "\t15 & 0.0 & GN\\_ESCH & 5 & 10 & 10 & MAXEVAL\\_REACHED & 0.00211301 & 10.0511 & $\\dots$ \\\\\n",
       "\t16 & 0.0 & LN\\_SBPLX & 1 & 10 & 10 & MAXEVAL\\_REACHED & 0.00597974 & 0.331165 & $\\dots$ \\\\\n",
       "\t17 & 0.0 & LN\\_SBPLX & 2 & 10 & 10 & MAXEVAL\\_REACHED & 0.0017898 & 0.456404 & $\\dots$ \\\\\n",
       "\t18 & 0.0 & LN\\_SBPLX & 3 & 10 & 10 & MAXEVAL\\_REACHED & 0.00176104 & 0.753196 & $\\dots$ \\\\\n",
       "\t19 & 0.0 & LN\\_SBPLX & 4 & 10 & 10 & MAXEVAL\\_REACHED & 0.00175573 & 0.722075 & $\\dots$ \\\\\n",
       "\t20 & 0.0 & LN\\_SBPLX & 5 & 10 & 10 & MAXEVAL\\_REACHED & 0.00191265 & 0.512529 & $\\dots$ \\\\\n",
       "\t21 & 0.0 & GN\\_CRS2\\_LM & 1 & 20 & 20 & MAXEVAL\\_REACHED & 0.00493079 & 0.375415 & $\\dots$ \\\\\n",
       "\t22 & 0.0 & GN\\_CRS2\\_LM & 2 & 20 & 20 & MAXEVAL\\_REACHED & 0.00371029 & 0.344541 & $\\dots$ \\\\\n",
       "\t23 & 0.0 & GN\\_CRS2\\_LM & 3 & 20 & 20 & MAXEVAL\\_REACHED & 0.0054563 & 0.264891 & $\\dots$ \\\\\n",
       "\t24 & 0.0 & GN\\_CRS2\\_LM & 4 & 20 & 20 & MAXEVAL\\_REACHED & 0.00379471 & 0.324644 & $\\dots$ \\\\\n",
       "\t25 & 0.0 & GN\\_CRS2\\_LM & 5 & 20 & 20 & MAXEVAL\\_REACHED & 0.00361866 & 0.239529 & $\\dots$ \\\\\n",
       "\t26 & 0.0 & GN\\_DIRECT & 1 & 20 & 20 & MAXEVAL\\_REACHED & 0.00471472 & 0.214565 & $\\dots$ \\\\\n",
       "\t27 & 0.0 & GN\\_DIRECT & 2 & 20 & 20 & MAXEVAL\\_REACHED & 0.00351546 & 0.214565 & $\\dots$ \\\\\n",
       "\t28 & 0.0 & GN\\_DIRECT & 3 & 20 & 20 & MAXEVAL\\_REACHED & 0.00561827 & 0.214565 & $\\dots$ \\\\\n",
       "\t29 & 0.0 & GN\\_DIRECT & 4 & 20 & 20 & MAXEVAL\\_REACHED & 0.00344607 & 0.214565 & $\\dots$ \\\\\n",
       "\t30 & 0.0 & GN\\_DIRECT & 5 & 20 & 20 & MAXEVAL\\_REACHED & 0.00414721 & 0.214565 & $\\dots$ \\\\\n",
       "\t$\\dots$ & $\\dots$ & $\\dots$ & $\\dots$ & $\\dots$ & $\\dots$ & $\\dots$ & $\\dots$ & $\\dots$ &  \\\\\n",
       "\\end{tabular}\n"
      ],
      "text/plain": [
       "\u001b[1m320×14 DataFrame\u001b[0m\n",
       "\u001b[1m Row \u001b[0m│\u001b[1m shed_max \u001b[0m\u001b[1m algo       \u001b[0m\u001b[1m srand \u001b[0m\u001b[1m maxeval \u001b[0m\u001b[1m numevals \u001b[0m\u001b[1m ret             \u001b[0m\u001b[1m topt  \u001b[0m ⋯\n",
       "     │\u001b[90m Float64  \u001b[0m\u001b[90m String     \u001b[0m\u001b[90m Int64 \u001b[0m\u001b[90m Int64   \u001b[0m\u001b[90m Int64    \u001b[0m\u001b[90m String          \u001b[0m\u001b[90m Float6\u001b[0m ⋯\n",
       "─────┼──────────────────────────────────────────────────────────────────────────\n",
       "   1 │     0.0   GN_CRS2_LM      1       10        10  MAXEVAL_REACHED  0.0018 ⋯\n",
       "   2 │     0.0   GN_CRS2_LM      2       10        10  MAXEVAL_REACHED  0.0019\n",
       "   3 │     0.0   GN_CRS2_LM      3       10        10  MAXEVAL_REACHED  0.0019\n",
       "   4 │     0.0   GN_CRS2_LM      4       10        10  MAXEVAL_REACHED  0.0021\n",
       "   5 │     0.0   GN_CRS2_LM      5       10        10  MAXEVAL_REACHED  0.0037 ⋯\n",
       "   6 │     0.0   GN_DIRECT       1       10        10  MAXEVAL_REACHED  0.0085\n",
       "   7 │     0.0   GN_DIRECT       2       10        10  MAXEVAL_REACHED  0.0017\n",
       "   8 │     0.0   GN_DIRECT       3       10        10  MAXEVAL_REACHED  0.0017\n",
       "   9 │     0.0   GN_DIRECT       4       10        10  MAXEVAL_REACHED  0.0019 ⋯\n",
       "  10 │     0.0   GN_DIRECT       5       10        10  MAXEVAL_REACHED  0.0020\n",
       "  11 │     0.0   GN_ESCH         1       10        10  MAXEVAL_REACHED  0.0064\n",
       "  ⋮  │    ⋮          ⋮         ⋮       ⋮        ⋮             ⋮             ⋮  ⋱\n",
       " 311 │     0.01  GN_ESCH         1      600       600  MAXEVAL_REACHED  0.1243\n",
       " 312 │     0.01  GN_ESCH         2      600       600  MAXEVAL_REACHED  0.1220 ⋯\n",
       " 313 │     0.01  GN_ESCH         3      600       600  MAXEVAL_REACHED  0.1197\n",
       " 314 │     0.01  GN_ESCH         4      600       600  MAXEVAL_REACHED  0.1166\n",
       " 315 │     0.01  GN_ESCH         5      600       600  MAXEVAL_REACHED  0.1220\n",
       " 316 │     0.01  LN_SBPLX        1      600       538  XTOL_REACHED     0.1080 ⋯\n",
       " 317 │     0.01  LN_SBPLX        2      600       399  XTOL_REACHED     0.0840\n",
       " 318 │     0.01  LN_SBPLX        3      600       489  XTOL_REACHED     0.0964\n",
       " 319 │     0.01  LN_SBPLX        4      600       440  XTOL_REACHED     0.0891\n",
       " 320 │     0.01  LN_SBPLX        5      600       401  XTOL_REACHED     0.0849 ⋯\n",
       "\u001b[36m                                                  8 columns and 299 rows omitted\u001b[0m"
      ]
     },
     "execution_count": 63,
     "metadata": {},
     "output_type": "execute_result"
    }
   ],
   "source": [
    "df"
   ]
  },
  {
   "cell_type": "markdown",
   "id": "31991b6f-0f78-42e3-b8c3-220e545590a7",
   "metadata": {},
   "source": [
    "**TODO**: post process fopt to have it log of relative difference to best"
   ]
  },
  {
   "cell_type": "markdown",
   "id": "0a3d917a-1a5a-45b4-98a4-7ac36a5fa2e3",
   "metadata": {},
   "source": [
    "## Export"
   ]
  },
  {
   "cell_type": "code",
   "execution_count": 64,
   "id": "3052b5a7-7dc7-48ce-bcd3-be064cc8b80d",
   "metadata": {},
   "outputs": [],
   "source": [
    "using CSV"
   ]
  },
  {
   "cell_type": "code",
   "execution_count": 65,
   "id": "e9a69f32-2a85-4b2e-9822-e87dc6f73398",
   "metadata": {},
   "outputs": [
    {
     "data": {
      "text/plain": [
       "\"df_320.csv\""
      ]
     },
     "execution_count": 65,
     "metadata": {},
     "output_type": "execute_result"
    }
   ],
   "source": [
    "CSV.write(\"df_320.csv\", df)"
   ]
  },
  {
   "cell_type": "code",
   "execution_count": null,
   "id": "947f3891-7cc2-4f86-a5b8-9ccd24536976",
   "metadata": {},
   "outputs": [],
   "source": []
  }
 ],
 "metadata": {
  "kernelspec": {
   "display_name": "Julia 1.9.2",
   "language": "julia",
   "name": "julia-1.9"
  },
  "language_info": {
   "file_extension": ".jl",
   "mimetype": "application/julia",
   "name": "julia",
   "version": "1.9.2"
  }
 },
 "nbformat": 4,
 "nbformat_minor": 5
}
